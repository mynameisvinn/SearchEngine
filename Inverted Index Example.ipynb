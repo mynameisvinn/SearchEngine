{
 "cells": [
  {
   "cell_type": "code",
   "execution_count": null,
   "metadata": {
    "collapsed": true
   },
   "outputs": [],
   "source": [
    "import concurrent.futures as cf\n",
    "import glob\n",
    "import os\n",
    "from multiprocessing import Process, Manager\n",
    "from time import time\n",
    "\n",
    "from Indexer import doc2tokens\n",
    "\n",
    "def inverter(chunk, d):\n",
    "    \"\"\"\n",
    "    update inverted_index dictionary, where key = token\n",
    "    and value = [fname1, fname2,...], with each new chunk.\n",
    "    \n",
    "    parameters\n",
    "    ----------\n",
    "    chunk : tuple \n",
    "        consisting of document name and its corresponding \n",
    "        list of tokens\n",
    "    d : dict\n",
    "        threadsafe dict created by manager\n",
    "    \"\"\"\n",
    "    print(\"pid: \", os.getpid())\n",
    "    \n",
    "    fname = chunk[0]\n",
    "    tokens = chunk[1]  # list of doc's tokens\n",
    "    \n",
    "    for token in tokens:\n",
    "        if fname in d[token]:  # fname has been indexed already\n",
    "            pass  \n",
    "        else:\n",
    "            d[token].append(fname)"
   ]
  },
  {
   "cell_type": "code",
   "execution_count": null,
   "metadata": {
    "collapsed": true
   },
   "outputs": [],
   "source": [
    "ls_fnames = glob.glob(\"corpus/*\")"
   ]
  },
  {
   "cell_type": "code",
   "execution_count": null,
   "metadata": {
    "collapsed": true
   },
   "outputs": [],
   "source": [
    "# create dict where k=fname, v=[token1, token2,...]\n",
    "regdex = doc2tokens(ls_fnames)"
   ]
  },
  {
   "cell_type": "code",
   "execution_count": null,
   "metadata": {},
   "outputs": [],
   "source": [
    "# create inverted index using a shared dict object\n",
    "start = time()\n",
    "\n",
    "# use a manager to create shared objects\n",
    "manager = Manager()\n",
    "d = manager.dict()  # https://stackoverflow.com/questions/6832554/python-multiprocessing-how-do-i-share-a-dict-among-multiple-processes\n",
    "\n",
    "# populate inverted index with keys, where k=tokens\n",
    "ls_tokens = list(regdex.values())\n",
    "\n",
    "for tokens in ls_tokens:\n",
    "    unique_tokens = set(tokens)\n",
    "    for token in unique_tokens:\n",
    "        d[token] = manager.list()  # all shared objects must be created by manager  https://stackoverflow.com/questions/8640367/python-manager-dict-in-multiprocessing\n",
    "print(\"execution\", time() - start)"
   ]
  },
  {
   "cell_type": "code",
   "execution_count": null,
   "metadata": {},
   "outputs": [],
   "source": [
    "n_workers = 2\n",
    "\n",
    "# update inverted index by adding fnames to the corresponding keys\n",
    "with cf.ProcessPoolExecutor(max_workers=n_workers) as executor:\n",
    "    for chunk in list(regdex.items()):\n",
    "        _ = executor.submit(inverter, chunk, d)\n",
    "        print(\"processing\", chunk[0])"
   ]
  },
  {
   "cell_type": "code",
   "execution_count": null,
   "metadata": {},
   "outputs": [],
   "source": [
    "print(d[\"the\"])"
   ]
  },
  {
   "cell_type": "code",
   "execution_count": null,
   "metadata": {
    "collapsed": true
   },
   "outputs": [],
   "source": []
  }
 ],
 "metadata": {
  "kernelspec": {
   "display_name": "Python 3",
   "language": "python",
   "name": "python3"
  },
  "language_info": {
   "codemirror_mode": {
    "name": "ipython",
    "version": 3
   },
   "file_extension": ".py",
   "mimetype": "text/x-python",
   "name": "python",
   "nbconvert_exporter": "python",
   "pygments_lexer": "ipython3",
   "version": "3.6.3"
  }
 },
 "nbformat": 4,
 "nbformat_minor": 2
}

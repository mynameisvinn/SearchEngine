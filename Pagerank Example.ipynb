{
 "cells": [
  {
   "cell_type": "code",
   "execution_count": null,
   "metadata": {
    "collapsed": true
   },
   "outputs": [],
   "source": [
    "from Page import Page, PageRank"
   ]
  },
  {
   "cell_type": "code",
   "execution_count": 17,
   "metadata": {
    "collapsed": true
   },
   "outputs": [],
   "source": [
    "# create pages and define relationships\n",
    "\n",
    "A = Page(\"A\", 1)\n",
    "B = Page(\"B\", 1)\n",
    "C = Page(\"C\", 1)\n",
    "\n",
    "A.add_parent(C)\n",
    "B.add_parent(A)\n",
    "B.add_parent(C)\n",
    "C.add_parent(B)\n",
    "\n",
    "A.add_child(B)\n",
    "B.add_child(C)\n",
    "C.add_child(A)\n",
    "C.add_child(B)"
   ]
  },
  {
   "cell_type": "code",
   "execution_count": 19,
   "metadata": {
    "collapsed": true
   },
   "outputs": [],
   "source": [
    "# create PageRank object and add pages\n",
    "P = PageRank()\n",
    "P.add_page(A)\n",
    "P.add_page(B)\n",
    "P.add_page(C)"
   ]
  },
  {
   "cell_type": "code",
   "execution_count": 20,
   "metadata": {},
   "outputs": [],
   "source": [
    "# run PageRank\n",
    "n_iterations = 2000\n",
    "d = 0.7\n",
    "P.calculate(n_iterations, d)"
   ]
  },
  {
   "cell_type": "code",
   "execution_count": 22,
   "metadata": {},
   "outputs": [
    {
     "name": "stdout",
     "output_type": "stream",
     "text": [
      "A 0.23136246786632397\n",
      "B 0.39331619537275075\n",
      "C 0.37532133676092555\n"
     ]
    }
   ],
   "source": [
    "# inspect scores\n",
    "for page in P.ls_nodes:\n",
    "    print(page.name, page.pagerank)"
   ]
  },
  {
   "cell_type": "code",
   "execution_count": null,
   "metadata": {
    "collapsed": true
   },
   "outputs": [],
   "source": []
  }
 ],
 "metadata": {
  "kernelspec": {
   "display_name": "Python 3",
   "language": "python",
   "name": "python3"
  },
  "language_info": {
   "codemirror_mode": {
    "name": "ipython",
    "version": 3
   },
   "file_extension": ".py",
   "mimetype": "text/x-python",
   "name": "python",
   "nbconvert_exporter": "python",
   "pygments_lexer": "ipython3",
   "version": "3.6.3"
  }
 },
 "nbformat": 4,
 "nbformat_minor": 2
}

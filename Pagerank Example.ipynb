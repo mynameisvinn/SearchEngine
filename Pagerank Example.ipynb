{
 "cells": [
  {
   "cell_type": "code",
   "execution_count": null,
   "metadata": {
    "collapsed": true
   },
   "outputs": [],
   "source": [
    "from Page import Page"
   ]
  },
  {
   "cell_type": "code",
   "execution_count": null,
   "metadata": {
    "collapsed": true
   },
   "outputs": [],
   "source": [
    "A = Page(\"A\", 1)\n",
    "B = Page(\"B\", 1)\n",
    "C = Page(\"C\", 1)\n",
    "\n",
    "A.add_parent(C)\n",
    "B.add_parent(A)\n",
    "B.add_parent(C)\n",
    "C.add_parent(B)\n",
    "\n",
    "A.add_child(B)\n",
    "B.add_child(C)\n",
    "C.add_child(A)\n",
    "C.add_child(B)\n",
    "\n",
    "pages = [A, B, C]"
   ]
  },
  {
   "cell_type": "code",
   "execution_count": null,
   "metadata": {},
   "outputs": [],
   "source": [
    "n_iterations = 2000\n",
    "d = 0.7\n",
    "n = float(len(pages))\n",
    "\n",
    "for _ in range(n_iterations):\n",
    "    \n",
    "    # for each page...\n",
    "    for page in pages:\n",
    "        \n",
    "        # update its pagerank by inspecting its children's pagerank\n",
    "        updated_prob = (1-d) * 1/n\n",
    "        \n",
    "        for parent in page.parents:\n",
    "            \n",
    "            # parents with high pageranks but few outbound are best\n",
    "            updated_prob += d * (parent.pagerank)/parent.count()\n",
    "        page.update_pagerank(updated_prob)\n",
    "    \n",
    "for page in pages:\n",
    "    print(page.name, page.pagerank)"
   ]
  },
  {
   "cell_type": "code",
   "execution_count": null,
   "metadata": {
    "collapsed": true
   },
   "outputs": [],
   "source": []
  }
 ],
 "metadata": {
  "kernelspec": {
   "display_name": "Python 3",
   "language": "python",
   "name": "python3"
  },
  "language_info": {
   "codemirror_mode": {
    "name": "ipython",
    "version": 3
   },
   "file_extension": ".py",
   "mimetype": "text/x-python",
   "name": "python",
   "nbconvert_exporter": "python",
   "pygments_lexer": "ipython3",
   "version": "3.6.3"
  }
 },
 "nbformat": 4,
 "nbformat_minor": 2
}
